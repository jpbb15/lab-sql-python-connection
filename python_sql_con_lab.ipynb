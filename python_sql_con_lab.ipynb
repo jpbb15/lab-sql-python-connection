{
 "cells": [
  {
   "cell_type": "code",
   "execution_count": 1,
   "metadata": {},
   "outputs": [],
   "source": [
    "import pandas as pd"
   ]
  },
  {
   "cell_type": "code",
   "execution_count": 2,
   "metadata": {},
   "outputs": [],
   "source": [
    "#1. \n",
    "\n",
    "user = \"root\"\n",
    "password = \"Admin149.\"\n",
    "host = \"127.0.0.1\"\n",
    "port = \"3306\"\n",
    "db = \"sakila\"\n",
    "from sqlalchemy import create_engine, text\n",
    "engine = create_engine(f'mysql+mysqlconnector://{user}:{password}@{host}:{port}/{db}')"
   ]
  },
  {
   "cell_type": "code",
   "execution_count": 3,
   "metadata": {},
   "outputs": [],
   "source": [
    "#2.\n",
    "\n",
    "def rentals_month(engine, month, year):\n",
    "    # SQL query to retrieve rental data for the specified month and year\n",
    "    query = text(\"\"\"\n",
    "        SELECT *\n",
    "        FROM rental\n",
    "        WHERE MONTH(rental_date) = :month AND YEAR(rental_date) = :year\n",
    "    \"\"\")\n",
    "    \n",
    "    # Execute the query and fetch the results into a DataFrame\n",
    "    with engine.connect() as connection:\n",
    "        result = connection.execute(query, month=month, year=year)\n",
    "        df = pd.DataFrame(result.fetchall(), columns=result.keys())\n",
    "    \n",
    "    return df"
   ]
  },
  {
   "cell_type": "code",
   "execution_count": 5,
   "metadata": {},
   "outputs": [],
   "source": [
    "#3.\n",
    "\n",
    "def rental_count_month(rental_df, month, year):\n",
    "    # Group the DataFrame by customer_id and count the number of rentals for each customer\n",
    "    rental_counts = rental_df.groupby('customer_id').size().reset_index(name=f'rentals_{month:02d}_{year}')\n",
    "    \n",
    "    return rental_counts"
   ]
  },
  {
   "cell_type": "code",
   "execution_count": 6,
   "metadata": {},
   "outputs": [],
   "source": [
    "#4.\n",
    "\n",
    "def compare_rentals(df1, df2):\n",
    "    # Merge the two DataFrames on 'customer_id'\n",
    "    combined_df = pd.merge(df1, df2, on='customer_id', how='outer', suffixes=('_1', '_2'))\n",
    "    \n",
    "    # Fill NaN values with 0 (if a customer didn't rent in one of the months)\n",
    "    combined_df.fillna(0, inplace=True)\n",
    "    \n",
    "    # Calculate the difference between the rental counts\n",
    "    combined_df['difference'] = combined_df.iloc[:, 1] - combined_df.iloc[:, 2]\n",
    "    \n",
    "    return combined_df"
   ]
  }
 ],
 "metadata": {
  "kernelspec": {
   "display_name": "base",
   "language": "python",
   "name": "python3"
  },
  "language_info": {
   "codemirror_mode": {
    "name": "ipython",
    "version": 3
   },
   "file_extension": ".py",
   "mimetype": "text/x-python",
   "name": "python",
   "nbconvert_exporter": "python",
   "pygments_lexer": "ipython3",
   "version": "3.11.7"
  }
 },
 "nbformat": 4,
 "nbformat_minor": 2
}
